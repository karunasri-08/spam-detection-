{
 "cells": [
  {
   "cell_type": "code",
   "execution_count": 41,
   "id": "ad413e9e",
   "metadata": {},
   "outputs": [],
   "source": [
    "#importing packages\n",
    "import numpy as np\n",
    "import pandas as pd\n",
    "from sklearn.model_selection import train_test_split\n",
    "from sklearn.feature_extraction.text import TfidfVectorizer\n",
    "from sklearn.linear_model import LogisticRegression\n",
    "from sklearn.metrics import accuracy_score"
   ]
  },
  {
   "cell_type": "code",
   "execution_count": 42,
   "id": "46df7dcd",
   "metadata": {},
   "outputs": [],
   "source": [
    "#Data collection and preprocessing\n",
    "\n",
    "raw_data=pd.read_csv('maildata.csv')"
   ]
  },
  {
   "cell_type": "code",
   "execution_count": 43,
   "id": "f55353cc",
   "metadata": {},
   "outputs": [
    {
     "data": {
      "text/html": [
       "<div>\n",
       "<style scoped>\n",
       "    .dataframe tbody tr th:only-of-type {\n",
       "        vertical-align: middle;\n",
       "    }\n",
       "\n",
       "    .dataframe tbody tr th {\n",
       "        vertical-align: top;\n",
       "    }\n",
       "\n",
       "    .dataframe thead th {\n",
       "        text-align: right;\n",
       "    }\n",
       "</style>\n",
       "<table border=\"1\" class=\"dataframe\">\n",
       "  <thead>\n",
       "    <tr style=\"text-align: right;\">\n",
       "      <th></th>\n",
       "      <th>Category</th>\n",
       "      <th>Message</th>\n",
       "    </tr>\n",
       "  </thead>\n",
       "  <tbody>\n",
       "    <tr>\n",
       "      <th>0</th>\n",
       "      <td>ham</td>\n",
       "      <td>Nah I don't think he goes to usf, he lives aro...</td>\n",
       "    </tr>\n",
       "    <tr>\n",
       "      <th>1</th>\n",
       "      <td>ham</td>\n",
       "      <td>Even my brother is not like to speak with me. ...</td>\n",
       "    </tr>\n",
       "    <tr>\n",
       "      <th>2</th>\n",
       "      <td>ham</td>\n",
       "      <td>As per your request 'Melle Melle (Oru Minnamin...</td>\n",
       "    </tr>\n",
       "    <tr>\n",
       "      <th>3</th>\n",
       "      <td>ham</td>\n",
       "      <td>I'm gonna be home soon and i don't want to tal...</td>\n",
       "    </tr>\n",
       "    <tr>\n",
       "      <th>4</th>\n",
       "      <td>ham</td>\n",
       "      <td>I've been searching for the right words to tha...</td>\n",
       "    </tr>\n",
       "    <tr>\n",
       "      <th>...</th>\n",
       "      <td>...</td>\n",
       "      <td>...</td>\n",
       "    </tr>\n",
       "    <tr>\n",
       "      <th>1490</th>\n",
       "      <td>spam</td>\n",
       "      <td>Want explicit SEX in 30 secs? Ring 02073162414...</td>\n",
       "    </tr>\n",
       "    <tr>\n",
       "      <th>1491</th>\n",
       "      <td>spam</td>\n",
       "      <td>ASKED 3MOBILE IF 0870 CHATLINES INCLU IN FREE ...</td>\n",
       "    </tr>\n",
       "    <tr>\n",
       "      <th>1492</th>\n",
       "      <td>spam</td>\n",
       "      <td>Had your contract mobile 11 Mnths? Latest Moto...</td>\n",
       "    </tr>\n",
       "    <tr>\n",
       "      <th>1493</th>\n",
       "      <td>spam</td>\n",
       "      <td>REMINDER FROM O2: To get 2.50 pounds free call...</td>\n",
       "    </tr>\n",
       "    <tr>\n",
       "      <th>1494</th>\n",
       "      <td>spam</td>\n",
       "      <td>This is the 2nd time we have tried 2 contact u...</td>\n",
       "    </tr>\n",
       "  </tbody>\n",
       "</table>\n",
       "<p>1495 rows × 2 columns</p>\n",
       "</div>"
      ],
      "text/plain": [
       "     Category                                            Message\n",
       "0         ham  Nah I don't think he goes to usf, he lives aro...\n",
       "1         ham  Even my brother is not like to speak with me. ...\n",
       "2         ham  As per your request 'Melle Melle (Oru Minnamin...\n",
       "3         ham  I'm gonna be home soon and i don't want to tal...\n",
       "4         ham  I've been searching for the right words to tha...\n",
       "...       ...                                                ...\n",
       "1490     spam  Want explicit SEX in 30 secs? Ring 02073162414...\n",
       "1491     spam  ASKED 3MOBILE IF 0870 CHATLINES INCLU IN FREE ...\n",
       "1492     spam  Had your contract mobile 11 Mnths? Latest Moto...\n",
       "1493     spam  REMINDER FROM O2: To get 2.50 pounds free call...\n",
       "1494     spam  This is the 2nd time we have tried 2 contact u...\n",
       "\n",
       "[1495 rows x 2 columns]"
      ]
     },
     "execution_count": 43,
     "metadata": {},
     "output_type": "execute_result"
    }
   ],
   "source": [
    "raw_data"
   ]
  },
  {
   "cell_type": "code",
   "execution_count": 44,
   "id": "a477d27d",
   "metadata": {},
   "outputs": [],
   "source": [
    "#repalce the mail values with a null string\n",
    "\n",
    "mail_data=raw_data.where((pd.notnull(raw_data)),'') "
   ]
  },
  {
   "cell_type": "code",
   "execution_count": 46,
   "id": "6e3b2bac",
   "metadata": {},
   "outputs": [
    {
     "data": {
      "text/html": [
       "<div>\n",
       "<style scoped>\n",
       "    .dataframe tbody tr th:only-of-type {\n",
       "        vertical-align: middle;\n",
       "    }\n",
       "\n",
       "    .dataframe tbody tr th {\n",
       "        vertical-align: top;\n",
       "    }\n",
       "\n",
       "    .dataframe thead th {\n",
       "        text-align: right;\n",
       "    }\n",
       "</style>\n",
       "<table border=\"1\" class=\"dataframe\">\n",
       "  <thead>\n",
       "    <tr style=\"text-align: right;\">\n",
       "      <th></th>\n",
       "      <th>Category</th>\n",
       "      <th>Message</th>\n",
       "    </tr>\n",
       "  </thead>\n",
       "  <tbody>\n",
       "    <tr>\n",
       "      <th>0</th>\n",
       "      <td>ham</td>\n",
       "      <td>Nah I don't think he goes to usf, he lives aro...</td>\n",
       "    </tr>\n",
       "    <tr>\n",
       "      <th>1</th>\n",
       "      <td>ham</td>\n",
       "      <td>Even my brother is not like to speak with me. ...</td>\n",
       "    </tr>\n",
       "    <tr>\n",
       "      <th>2</th>\n",
       "      <td>ham</td>\n",
       "      <td>As per your request 'Melle Melle (Oru Minnamin...</td>\n",
       "    </tr>\n",
       "    <tr>\n",
       "      <th>3</th>\n",
       "      <td>ham</td>\n",
       "      <td>I'm gonna be home soon and i don't want to tal...</td>\n",
       "    </tr>\n",
       "    <tr>\n",
       "      <th>4</th>\n",
       "      <td>ham</td>\n",
       "      <td>I've been searching for the right words to tha...</td>\n",
       "    </tr>\n",
       "  </tbody>\n",
       "</table>\n",
       "</div>"
      ],
      "text/plain": [
       "  Category                                            Message\n",
       "0      ham  Nah I don't think he goes to usf, he lives aro...\n",
       "1      ham  Even my brother is not like to speak with me. ...\n",
       "2      ham  As per your request 'Melle Melle (Oru Minnamin...\n",
       "3      ham  I'm gonna be home soon and i don't want to tal...\n",
       "4      ham  I've been searching for the right words to tha..."
      ]
     },
     "execution_count": 46,
     "metadata": {},
     "output_type": "execute_result"
    }
   ],
   "source": [
    "#printing the first five rows of the dataffram\n",
    "\n",
    "mail_data.head()"
   ]
  },
  {
   "cell_type": "code",
   "execution_count": 47,
   "id": "59fc05f1",
   "metadata": {},
   "outputs": [
    {
     "data": {
      "text/plain": [
       "(1495, 2)"
      ]
     },
     "execution_count": 47,
     "metadata": {},
     "output_type": "execute_result"
    }
   ],
   "source": [
    "#Checking the number of rows and columns in the dataframe\n",
    "\n",
    "mail_data.shape"
   ]
  },
  {
   "cell_type": "code",
   "execution_count": 48,
   "id": "3a59dc0d",
   "metadata": {},
   "outputs": [
    {
     "data": {
      "text/plain": [
       "0    748\n",
       "1    747\n",
       "Name: Category, dtype: int64"
      ]
     },
     "execution_count": 48,
     "metadata": {},
     "output_type": "execute_result"
    }
   ],
   "source": [
    "#Lable Encoding\n",
    "#label spam mail as 1; ham mail as 0;\n",
    "from sklearn.preprocessing import LabelEncoder\n",
    "le=LabelEncoder()\n",
    "\n",
    "\n",
    "mail_data['Category']= le.fit_transform(mail_data['Category'])\n",
    "mail_data['Category'].value_counts()"
   ]
  },
  {
   "cell_type": "code",
   "execution_count": 49,
   "id": "0f722e11",
   "metadata": {},
   "outputs": [
    {
     "name": "stdout",
     "output_type": "stream",
     "text": [
      "0       Nah I don't think he goes to usf, he lives aro...\n",
      "1       Even my brother is not like to speak with me. ...\n",
      "2       As per your request 'Melle Melle (Oru Minnamin...\n",
      "3       I'm gonna be home soon and i don't want to tal...\n",
      "4       I've been searching for the right words to tha...\n",
      "                              ...                        \n",
      "1490    Want explicit SEX in 30 secs? Ring 02073162414...\n",
      "1491    ASKED 3MOBILE IF 0870 CHATLINES INCLU IN FREE ...\n",
      "1492    Had your contract mobile 11 Mnths? Latest Moto...\n",
      "1493    REMINDER FROM O2: To get 2.50 pounds free call...\n",
      "1494    This is the 2nd time we have tried 2 contact u...\n",
      "Name: Message, Length: 1495, dtype: object\n"
     ]
    }
   ],
   "source": [
    "#Spam=1\n",
    "#ham=0\n",
    "#Seperating the data as text and labels\n",
    "\n",
    "X=mail_data['Message']\n",
    "print(X)"
   ]
  },
  {
   "cell_type": "code",
   "execution_count": 50,
   "id": "1aaf3bf2",
   "metadata": {},
   "outputs": [
    {
     "name": "stdout",
     "output_type": "stream",
     "text": [
      "0       0\n",
      "1       0\n",
      "2       0\n",
      "3       0\n",
      "4       0\n",
      "       ..\n",
      "1490    1\n",
      "1491    1\n",
      "1492    1\n",
      "1493    1\n",
      "1494    1\n",
      "Name: Category, Length: 1495, dtype: int32\n"
     ]
    }
   ],
   "source": [
    "Y=mail_data['Category']\n",
    "print(Y)"
   ]
  },
  {
   "cell_type": "code",
   "execution_count": 51,
   "id": "ea9a97a4",
   "metadata": {},
   "outputs": [],
   "source": [
    "#Splitting the data into training data and testing data\n",
    "\n",
    "X_train,X_test,Y_train,Y_test=train_test_split(X,Y,test_size=0.2,random_state=3)"
   ]
  },
  {
   "cell_type": "code",
   "execution_count": 52,
   "id": "bc63d3be",
   "metadata": {},
   "outputs": [
    {
     "name": "stdout",
     "output_type": "stream",
     "text": [
      "(1495,)\n",
      "(299,)\n",
      "(1196,)\n"
     ]
    }
   ],
   "source": [
    "print(X.shape)\n",
    "print(X_test.shape)\n",
    "print(X_train.shape)"
   ]
  },
  {
   "cell_type": "code",
   "execution_count": 53,
   "id": "d6e0400a",
   "metadata": {},
   "outputs": [],
   "source": [
    "#Feature Extraction\n",
    "#Transform the text data to feature vectors that can be used as input to the logistic regression model\n",
    "\n",
    "feature_extraction=TfidfVectorizer(min_df=1,stop_words='english',lowercase='True')\n",
    "X_train_features=feature_extraction.fit_transform(X_train)\n",
    "X_test_features=feature_extraction.transform(X_test)"
   ]
  },
  {
   "cell_type": "code",
   "execution_count": 54,
   "id": "eea5defe",
   "metadata": {},
   "outputs": [],
   "source": [
    "#Convert Y_train and Y_test values as Integers\n",
    "\n",
    "Y_train=Y_train.astype('int')\n",
    "Y_test=Y_test.astype('int')"
   ]
  },
  {
   "cell_type": "code",
   "execution_count": 55,
   "id": "62d42967",
   "metadata": {},
   "outputs": [
    {
     "name": "stdout",
     "output_type": "stream",
     "text": [
      "740                           Dude we should go sup again\n",
      "51                     I plane to give on this month end.\n",
      "824     Today's Offer! Claim ur £150 worth of discount...\n",
      "566     Yes baby! We can study all the positions of th...\n",
      "548                 Ya very nice. . .be ready on thursday\n",
      "                              ...                        \n",
      "789     Ringtone Club: Get the UK singles chart on you...\n",
      "256     Oh and by the way you do have more food in you...\n",
      "968     You have won a Nokia 7250i. This is what you g...\n",
      "952     Congratulations ur awarded either £500 of CD g...\n",
      "1273    You have been specially selected to receive a ...\n",
      "Name: Message, Length: 1196, dtype: object\n"
     ]
    }
   ],
   "source": [
    "print(X_train)"
   ]
  },
  {
   "cell_type": "code",
   "execution_count": 56,
   "id": "a6e6b08d",
   "metadata": {},
   "outputs": [
    {
     "name": "stdout",
     "output_type": "stream",
     "text": [
      "  (0, 3248)\t0.7267512887334335\n",
      "  (0, 1399)\t0.6869006946599293\n",
      "  (1, 1435)\t0.5053855521037061\n",
      "  (1, 2342)\t0.5118671671424306\n",
      "  (1, 2601)\t0.6946779447531173\n",
      "  (2, 2823)\t0.14876146644957278\n",
      "  (2, 3513)\t0.2522714632762162\n",
      "  (2, 298)\t0.17867417501990981\n",
      "  (2, 3214)\t0.24678660408443692\n",
      "  (2, 0)\t0.24678660408443692\n",
      "  (2, 132)\t0.2752579216512388\n",
      "  (2, 1227)\t0.18735378662229996\n",
      "  (2, 2324)\t0.14782789379384276\n",
      "  (2, 2473)\t0.23370598056998457\n",
      "  (2, 2276)\t0.25860326852853616\n",
      "  (2, 2917)\t0.24678660408443692\n",
      "  (2, 585)\t0.2522714632762162\n",
      "  (2, 3758)\t0.19114806034353965\n",
      "  (2, 3326)\t0.1442923423417189\n",
      "  (2, 3589)\t0.21125646354883518\n",
      "  (2, 1342)\t0.24194861540583357\n",
      "  (2, 3724)\t0.22684416243284067\n",
      "  (2, 287)\t0.22380014570941428\n",
      "  (2, 3525)\t0.14026210934890468\n",
      "  (2, 1111)\t0.14923633218537297\n",
      "  :\t:\n",
      "  (1194, 1677)\t0.2451380739483686\n",
      "  (1194, 250)\t0.2037880980117859\n",
      "  (1194, 1384)\t0.2051539894181722\n",
      "  (1194, 472)\t0.1975259056784092\n",
      "  (1194, 817)\t0.2051539894181722\n",
      "  (1194, 1602)\t0.13777879221430384\n",
      "  (1194, 3732)\t0.16617826752829745\n",
      "  (1194, 3471)\t0.1461155662283478\n",
      "  (1194, 3589)\t0.2282933006875908\n",
      "  (1194, 3525)\t0.15157358675211902\n",
      "  (1195, 386)\t0.3184128321826128\n",
      "  (1195, 2705)\t0.30095302066274865\n",
      "  (1195, 700)\t0.30095302066274865\n",
      "  (1195, 765)\t0.2114097858485205\n",
      "  (1195, 260)\t0.30095302066274865\n",
      "  (1195, 1200)\t0.20477187358030907\n",
      "  (1195, 1121)\t0.25871734230646076\n",
      "  (1195, 2120)\t0.30095302066274865\n",
      "  (1195, 98)\t0.30095302066274865\n",
      "  (1195, 2779)\t0.20965194203918724\n",
      "  (1195, 2955)\t0.21926076970378597\n",
      "  (1195, 3124)\t0.26446736345646116\n",
      "  (1195, 816)\t0.23781079625488755\n",
      "  (1195, 298)\t0.18731206206044487\n",
      "  (1195, 1227)\t0.19641128385310908\n"
     ]
    }
   ],
   "source": [
    "print(X_train_features)"
   ]
  },
  {
   "cell_type": "code",
   "execution_count": 57,
   "id": "80ef4224",
   "metadata": {},
   "outputs": [],
   "source": [
    "#Training The Model\n",
    "#Logistic Regression\n",
    "\n",
    "model=LogisticRegression()"
   ]
  },
  {
   "cell_type": "code",
   "execution_count": 58,
   "id": "73d78ccc",
   "metadata": {},
   "outputs": [
    {
     "data": {
      "text/plain": [
       "LogisticRegression()"
      ]
     },
     "execution_count": 58,
     "metadata": {},
     "output_type": "execute_result"
    }
   ],
   "source": [
    "#Training the Logistic Regression Model with the training data\n",
    "\n",
    "model.fit(X_train_features,Y_train)"
   ]
  },
  {
   "cell_type": "code",
   "execution_count": 59,
   "id": "3e74d49e",
   "metadata": {},
   "outputs": [],
   "source": [
    "#Evaluating the trained model\n",
    "#Prediction on training data\n",
    "prediction_on_training_data=model.predict(X_train_features)\n",
    "accuracy_on_training_data=accuracy_score(Y_train,prediction_on_training_data)"
   ]
  },
  {
   "cell_type": "code",
   "execution_count": 60,
   "id": "7adb38e2",
   "metadata": {},
   "outputs": [
    {
     "name": "stdout",
     "output_type": "stream",
     "text": [
      "Accuracy on training data: 98.24414715719062\n"
     ]
    }
   ],
   "source": [
    "print('Accuracy on training data:',accuracy_on_training_data*100)"
   ]
  },
  {
   "cell_type": "code",
   "execution_count": 61,
   "id": "91b36dde",
   "metadata": {},
   "outputs": [],
   "source": [
    "#Prediction on training data\n",
    "\n",
    "prediction_on_test_data=model.predict(X_test_features)\n",
    "accuracy_on_test_data=accuracy_score(Y_test,prediction_on_test_data)"
   ]
  },
  {
   "cell_type": "code",
   "execution_count": 62,
   "id": "4642c22d",
   "metadata": {},
   "outputs": [
    {
     "name": "stdout",
     "output_type": "stream",
     "text": [
      "Accuracy on test data: 0.9498327759197325\n"
     ]
    }
   ],
   "source": [
    "print('Accuracy on test data:',accuracy_on_test_data)"
   ]
  },
  {
   "cell_type": "code",
   "execution_count": 66,
   "id": "c505bf32",
   "metadata": {},
   "outputs": [],
   "source": [
    "#Building a predictive System\n",
    "\n",
    "input_mail=[\"Reminder: You have not downloaded the content you have already paid for. Goto http://doit. mymoby. tv/ to collect your content\"]\n"
   ]
  },
  {
   "cell_type": "code",
   "execution_count": 67,
   "id": "71bf92e0",
   "metadata": {},
   "outputs": [],
   "source": [
    "#convert text to feature vectors\n",
    "\n",
    "input_data_features=feature_extraction.transform(input_mail)"
   ]
  },
  {
   "cell_type": "code",
   "execution_count": 68,
   "id": "be552ad0",
   "metadata": {},
   "outputs": [
    {
     "name": "stdout",
     "output_type": "stream",
     "text": [
      "[1]\n",
      "Spam mail\n"
     ]
    }
   ],
   "source": [
    "#making predictions\n",
    "\n",
    "prediction=model.predict(input_data_features)\n",
    "print(prediction)\n",
    "\n",
    "if (prediction[0]==0):\n",
    "    print('Ham mail')\n",
    "else:\n",
    "    print('Spam mail')"
   ]
  },
  {
   "cell_type": "code",
   "execution_count": null,
   "id": "a9a95e47",
   "metadata": {},
   "outputs": [],
   "source": []
  }
 ],
 "metadata": {
  "kernelspec": {
   "display_name": "Python 3",
   "language": "python",
   "name": "python3"
  },
  "language_info": {
   "codemirror_mode": {
    "name": "ipython",
    "version": 3
   },
   "file_extension": ".py",
   "mimetype": "text/x-python",
   "name": "python",
   "nbconvert_exporter": "python",
   "pygments_lexer": "ipython3",
   "version": "3.8.8"
  }
 },
 "nbformat": 4,
 "nbformat_minor": 5
}
